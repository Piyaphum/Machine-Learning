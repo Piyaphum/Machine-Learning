{
  "nbformat": 4,
  "nbformat_minor": 0,
  "metadata": {
    "colab": {
      "provenance": [],
      "include_colab_link": true
    },
    "kernelspec": {
      "name": "python3",
      "display_name": "Python 3"
    },
    "language_info": {
      "name": "python"
    }
  },
  "cells": [
    {
      "cell_type": "markdown",
      "metadata": {
        "id": "view-in-github",
        "colab_type": "text"
      },
      "source": [
        "<a href=\"https://colab.research.google.com/github/Piyaphum/Machine-Learning-Exercise/blob/main/NearestNeighbors_Exercise.ipynb\" target=\"_parent\"><img src=\"https://colab.research.google.com/assets/colab-badge.svg\" alt=\"Open In Colab\"/></a>"
      ]
    },
    {
      "cell_type": "code",
      "source": [
        "from sklearn.metrics.pairwise import euclidean_distances\n",
        "import pandas as pd\n",
        "import numpy as np\n",
        "import matplotlib.pyplot as plt\n",
        "from sklearn.neighbors import KNeighborsClassifier"
      ],
      "metadata": {
        "id": "rJwsPG6vT-N3"
      },
      "execution_count": 1,
      "outputs": []
    },
    {
      "cell_type": "markdown",
      "source": [
        "# k-nearest neighbour (k-NN)\n",
        "เราสามารถสร้าง k-nearest neighbour method ได้ด้วยตัวเอง\n",
        "\n",
        "1.   นำเข้า sklearn.metrics.pairwise library เพื่อใช้งานฟังก์ชันคำนวณระยะห่างแบบ euclidean distance\n",
        "          from sklearn.metrics.pairwise import euclidean_distances\n",
        "\n",
        "2.   คำนวณระยะห่างระหว่างจุดข้อมูลใหม่ new_data กับจุดข้อมูลทั้งหมด X ในชุดข้อมูล\n",
        "          dists = np.squeeze(euclidean_distances(new_data, X))\n",
        "\n",
        "3.   เรียงระยะห่างข้อมูลจากน้อยไปมาก และเลือกระยะห่างที่น้อยที่สุด k ค่า\n",
        "          min_list = np.sort(dists.ravel())[0:k]  \n",
        "\n",
        "4.   หาค่าตำแหน่งข้อมูล k ค่าที่ได้จากข้อ 3 โดยใช้เงื่อนไขระยะห่างน้อยกว่าระยะห่างที่มากที่สุดในกลุ่ม k ตัว\n",
        "          minpos = np.squeeze(np.where (dists <= min_list[k-1]))\n",
        "\n",
        "5.   แสดงค่าผลลัพธ์ที่ได้จากตำแหน่ง k ค่า\n",
        "          y[minpos]\n",
        "\n"
      ],
      "metadata": {
        "id": "od7oARfJ1U9b"
      }
    },
    {
      "cell_type": "code",
      "source": [
        "data_file = \"students.csv\"\n",
        "df = pd.read_csv(data_file)\n",
        "X= df.iloc[:,:-1].values # X is list of feature columns\n",
        "y = df.iloc[:,-1].values # y is label column\n",
        "new_data = [[65,165]]\n",
        "k = 3\n",
        "dists = np.squeeze(euclidean_distances(new_data, X)) # calculate distance between new_data and each row in dataframe\n",
        "min_list = np.sort(dists.ravel())[0:k] # list k nearest neighbors\n",
        "print(\"list of k nearest neighbors distances :\", min_list)\n",
        "minpos = np.squeeze(np.where (dists <= min_list[k-1])) # list of row numbers which are nearest neighbor of new data\n",
        "print(\"list of row number :\", minpos)\n",
        "y[minpos]\n"
      ],
      "metadata": {
        "id": "ap6mp2BOU5JH",
        "colab": {
          "base_uri": "https://localhost:8080/"
        },
        "outputId": "829680e5-c190-4e28-9a7c-ed98f5ba0539"
      },
      "execution_count": 3,
      "outputs": [
        {
          "output_type": "stream",
          "name": "stdout",
          "text": [
            "list of k nearest neighbors distances : [12.64911064 15.8113883  16.40121947]\n",
            "list of row number : [2 8 9]\n"
          ]
        },
        {
          "output_type": "execute_result",
          "data": {
            "text/plain": [
              "array(['Female', 'Male', 'Male'], dtype=object)"
            ]
          },
          "metadata": {},
          "execution_count": 3
        }
      ]
    },
    {
      "cell_type": "markdown",
      "source": [
        "# k-nearest neighbour (k-NN)\n",
        "เราสามารถใช้งาน k-nearest neighbour method สำเร็จรูปได้จาก sklearn.\n",
        "\n",
        "1.   นำเข้า sklearn.neighbors library\n",
        "          from sklearn.neighbors import KNeighborsClassifier\n",
        "\n",
        "2.   สร้างอัลกอริทึม KNeighborsClassifier\n",
        "          knn = KNeighborsClassifier(n_neighbors=k)\n",
        "\n",
        "3.   เรียกใช้งานกับข้อมูล data, gender\n",
        "          knn.fit(data, gender)\n",
        "\n",
        "4.   ทำนายข้อมูลกับจุดข้อมูลใหม่ new_data และแสดงผลลัพธ์ในตัวแปร pred_class\n",
        "          prediction = knn.predict(new_data)\n",
        "          pred_class = value_dict[prediction[0]]"
      ],
      "metadata": {
        "id": "cV5poeUv0Vy3"
      }
    },
    {
      "cell_type": "code",
      "source": [
        "data_file = \"students.csv\"\n",
        "df = pd.read_csv(data_file)\n",
        "X= df.iloc[:,:-1].values # X is list of feature columns\n",
        "y = df.iloc[:,-1].values # y is label column\n",
        "value_dict = {'Male':1, 'Female':2}\n",
        "classes = [value_dict[x] for x in y]\n",
        "weight = np.squeeze(X[:,0])\n",
        "height = np.squeeze( X[:,1])\n",
        "gender = np.squeeze( y)\n",
        "plt.scatter(weight,height,c = classes)\n",
        "plt.show()\n",
        "new_data = [[65,165]]\n",
        "k = 1\n",
        "data = list(zip(X[:,0], X[:,1]))\n",
        "knn = KNeighborsClassifier(n_neighbors=k)\n",
        "knn.fit(data, gender)\n",
        "prediction = knn.predict(new_data)\n",
        "pred_class = value_dict[prediction[0]]\n",
        "new_x = new_data[0][0]\n",
        "new_y = new_data[0][1]\n",
        "x = np.append(weight, new_x)\n",
        "y = np.append(height, new_y)\n",
        "plt.scatter(x, y, c=classes + [pred_class])\n",
        "plt.text(x=new_x-2.7, y=new_y-1.7, s=f\"new point, class: {prediction[0]}\")\n",
        "plt.show()"
      ],
      "metadata": {
        "id": "lYPNy4-0laGr",
        "colab": {
          "base_uri": "https://localhost:8080/",
          "height": 843
        },
        "outputId": "61b24be0-8a13-4a64-fe0e-968e48a71b58"
      },
      "execution_count": 4,
      "outputs": [
        {
          "output_type": "display_data",
          "data": {
            "text/plain": [
              "<Figure size 640x480 with 1 Axes>"
            ],
            "image/png": "[encoded data removed]"
          },
          "metadata": {}
        },
        {
          "output_type": "display_data",
          "data": {
            "text/plain": [
              "<Figure size 640x480 with 1 Axes>"
            ],
            "image/png": "[encoded data removed]"
          },
          "metadata": {}
        }
      ]
    },
    {
      "cell_type": "markdown",
      "source": [
        "# Condensed Nearest Neighbour (CNN)\n",
        "Undersample based on the condensed nearest neighbour method.\n",
        "\n",
        "1.   นำเข้า imblearn under_sampling library\n",
        "          from imblearn.under_sampling import CondensedNearestNeighbour  \n",
        "\n",
        "2.   สร้างอัลกอริทึม CondensedNearestNeighbour\n",
        "          cnn = CondensedNearestNeighbour(random_state=42)  \n",
        "3.   เรียกใช้งานกับข้อมูล X, y\n",
        "          X_res, y_res = cnn.fit_resample(X, y)  \n",
        "\n",
        "\n",
        "\n"
      ],
      "metadata": {
        "id": "8MgiJly6y8Gz"
      }
    },
    {
      "cell_type": "code",
      "source": [
        "from collections import Counter\n",
        "from sklearn.datasets import fetch_openml\n",
        "from sklearn.preprocessing import scale\n",
        "from imblearn.under_sampling import CondensedNearestNeighbour\n",
        "X, y = fetch_openml('diabetes', version=1, return_X_y=True)\n",
        "X = scale(X)\n",
        "print('Original dataset shape %s' % Counter(y))\n",
        "cnn = CondensedNearestNeighbour(random_state=42)\n",
        "X_res, y_res = cnn.fit_resample(X, y)\n",
        "print('Resampled dataset shape %s' % Counter(y_res))"
      ],
      "metadata": {
        "id": "EvHNUAxuyVZU",
        "colab": {
          "base_uri": "https://localhost:8080/"
        },
        "outputId": "5c822d66-a11f-4c88-b50f-1c6f5c8ad7e2"
      },
      "execution_count": 5,
      "outputs": [
        {
          "output_type": "stream",
          "name": "stdout",
          "text": [
            "Original dataset shape Counter({'tested_negative': 500, 'tested_positive': 268})\n",
            "Resampled dataset shape Counter({'tested_positive': 268, 'tested_negative': 181})\n"
          ]
        }
      ]
    },
    {
      "cell_type": "markdown",
      "source": [
        "# สร้างแผนภาพ scatter plot แสดงตำแหน่งข้อมูล 6 จุด"
      ],
      "metadata": {
        "id": "8G65id1C3T4-"
      }
    },
    {
      "cell_type": "code",
      "source": [
        "data = np.array([[2, 3], [5, 4], [9, 6], [4, 7], [8, 1], [7, 2]])\n",
        "X = np.squeeze(data[:,0])\n",
        "Y = np.squeeze(data[:,1])\n",
        "plt.scatter(X,Y)\n",
        "plt.show()"
      ],
      "metadata": {
        "id": "IgGrlK5S25ba",
        "colab": {
          "base_uri": "https://localhost:8080/",
          "height": 430
        },
        "outputId": "f1cf1b4b-985c-4c15-adf9-98d0856efd8d"
      },
      "execution_count": 6,
      "outputs": [
        {
          "output_type": "display_data",
          "data": {
            "text/plain": [
              "<Figure size 640x480 with 1 Axes>"
            ],
            "image/png": "[encoded data removed]"
          },
          "metadata": {}
        }
      ]
    },
    {
      "cell_type": "markdown",
      "source": [
        "# แสดง KD-Tree\n",
        "1.   สร้าง class Node สำหรับเก็บข้อมูลค่ามัธยฐานใน location และ node ด้านซ้าย (left) และ node ด้่านขวา (right)\n",
        "          class Node:\n",
        "              location = None\n",
        "              left = None\n",
        "              right = None\n",
        "\n",
        "2.   สร้างฟังก์ชัน KdTree และกำหนดค่าเริ่มต้น\n",
        "          length = pointList.shape[0]    # ค่าจำนวนข้อมูลที่ต้องการแบ่งใน tree\n",
        "          node = Node()                  # สร้าง node สำหรับเก็บข้อมูล\n",
        "          ax = depth % 2                 # สลับค่า 0, 1 ในแต่ละรอบ เพื่อแบ่งข้อมูลตามแกน X และ Y\n",
        "          depth += 1                     # นับจำนวนระดับที่ต้องแบ่งใน tree  \n",
        "\n",
        "3.   สร้างเงื่อนไขในการแบ่งข้อมูลในแต่ละระดับ\n",
        "            if length == 0:              # กรณีที่ไม่มีข้อมูลเหลือให้แบ่งแล้ว\n",
        "              return node               \n",
        "            elif length == 1:            # กรณีที่ข้อมูลเหลือหนึ่งตัว เป็น Leaf node\n",
        "              node.location = np.median(pointList,axis=0)[ax]\n",
        "              print(pointList, \"-- |\")\n",
        "\n",
        "4.   เงื่อนไขที่ยังรายการข้อมูลเหลือมากกว่า 1 ตัว ต้องเรียกฟังก์ชัน KdTree ซ้ำ (Recursive Function) ด้วยแบ่งออกเป็นสองส่วน\n",
        "\n",
        "            elif length > 1:\n",
        "              node.location = np.median(pointList,axis=0)[ax]   # กำหนดตำแหน่งมัธยฐาน เพื่อแบ่งข้อมูลออกเป็น 2 ส่วน\n",
        "              select_indices1 = np.where(pointList[:,ax] <= node. location)[0]\n",
        "              select_indices2 = np.where(pointList[:,ax] > node. location)[0]\n",
        "              node.left = KdTree(pointList[select_indices1] ,depth)\n",
        "              print(\"----------\"*length,  np.median(pointList,axis=0))\n",
        "              node.right = KdTree(pointList[select_indices2] ,depth)\n",
        "\n",
        "            *   กลุ่มข้อมูลที่มีค่าน้อยกว่าหรือเท่ากับค่ามัธยฐาน\n",
        "                select_indices1 = np.where(pointList[:,ax] <= node. location)[0]\n",
        "                node.left = KdTree(pointList[select_indices1] ,depth)\n",
        "\n",
        "            *   กลุ่มข้อมูลที่มีค่ามากกว่าค่ามัธยฐาน\n",
        "                select_indices2 = np.where(pointList[:,ax] > node. location)[0]\n",
        "                node.right = KdTree(pointList[select_indices2] ,depth)\n",
        "\n",
        "\n"
      ],
      "metadata": {
        "id": "7m1etFch4j6j"
      }
    },
    {
      "cell_type": "code",
      "source": [
        "class Node:\n",
        "  location = None\n",
        "  left = None\n",
        "  right = None\n",
        "def KdTree(pointList, depth = 0):\n",
        "  length = pointList.shape[0]\n",
        "  node = Node()\n",
        "  ax = depth % 2 # Switch axis x, y in each level\n",
        "  depth += 1 # count level in Tree\n",
        "  if length == 0:\n",
        "    return node\n",
        "  elif length == 1:\n",
        "    node.location = np.median(pointList,axis=0)[ax]\n",
        "    print(pointList, \"-- |\")\n",
        "  elif length > 1:\n",
        "    node.location = np.median(pointList,axis=0)[ax]\n",
        "    select_indices1 = np.where(pointList[:,ax] <= node. location)[0]\n",
        "    select_indices2 = np.where(pointList[:,ax] > node. location)[0]\n",
        "    node.left = KdTree(pointList[select_indices1] ,depth)\n",
        "    print(\"----------\"*length, np.median(pointList,axis=0))\n",
        "    node.right = KdTree(pointList[select_indices2] ,depth)\n",
        "  else:\n",
        "    print(\"No point list !!!\")\n",
        "\n",
        "  return node\n",
        "# Sample data\n",
        "data = np.array([[2, 3], [5, 4], [9, 6], [4, 7], [8, 1], [7, 2]])\n",
        "tree = KdTree(data, depth = 0)\n"
      ],
      "metadata": {
        "id": "wjFZ_YHGc2UU",
        "colab": {
          "base_uri": "https://localhost:8080/"
        },
        "outputId": "3800f972-d5a7-41ab-ba67-40eb030999c2"
      },
      "execution_count": 11,
      "outputs": [
        {
          "output_type": "stream",
          "name": "stdout",
          "text": [
            "[[2 3]] -- |\n",
            "-------------------- [3.5 3.5]\n",
            "[[5 4]] -- |\n",
            "------------------------------ [4. 4.]\n",
            "[[4 7]] -- |\n",
            "------------------------------------------------------------ [6.  3.5]\n",
            "[[7 2]] -- |\n",
            "-------------------- [7.5 1.5]\n",
            "[[8 1]] -- |\n",
            "------------------------------ [8. 2.]\n",
            "[[9 6]] -- |\n"
          ]
        }
      ]
    },
    {
      "cell_type": "markdown",
      "source": [
        "# เรียกใช้ KDTree สำเร็จรูป\n",
        "1.   นำเข้า sklearn.neighbors library\n",
        "          from sklearn.neighbors import KDTree\n",
        "\n",
        "2.   สร้างอัลกอริทึม KDTree\n",
        "          data = np.array([[2, 3], [5, 4], [9, 6], [4, 7], [8, 1], [7, 2]])\n",
        "          length = data.shape[0]\n",
        "\n",
        "          # Build KD tree\n",
        "          kdtree = KDTree(data, leaf_size=length)\n",
        "\n",
        "3.   ค้นหาข้อมูล query_point แล้วแสดงค่าข้อมูลใกล้เคียงที่สุดจำนวน k ค่า\n",
        "          # Query the KD tree for nearest neighbors\n",
        "          query_point = np.array([[9, 2]])\n",
        "          distances, indices = kdtree.query(query_point, k=2)"
      ],
      "metadata": {
        "id": "u-N4p1y8i_7L"
      }
    },
    {
      "cell_type": "code",
      "execution_count": 12,
      "metadata": {
        "id": "Sw0wNkjCO9Wc",
        "colab": {
          "base_uri": "https://localhost:8080/"
        },
        "outputId": "aee11e05-9dfe-4a94-e158-c2448a39711d"
      },
      "outputs": [
        {
          "output_type": "stream",
          "name": "stdout",
          "text": [
            "Query Point: [[9 2]]\n",
            "Nearest Neighbors:\n",
            "Neighbor 1: [8 1], Distance: 1.4142135623730951\n",
            "Neighbor 2: [7 2], Distance: 2.0\n",
            "Neighbor 3: [9 6], Distance: 4.0\n"
          ]
        }
      ],
      "source": [
        "from sklearn.neighbors import KDTree\n",
        "import numpy as np\n",
        "# Sample data\n",
        "data = np.array([[2, 3], [5, 4], [9, 6], [4, 7], [8, 1], [7, 2]])\n",
        "length = data.shape[0]\n",
        "# Build KD tree\n",
        "kdtree = KDTree(data, leaf_size=length)\n",
        "# Query the KD tree for nearest neighbors\n",
        "query_point = np.array([[9, 2]])\n",
        "distances, indices = kdtree.query(query_point, k=3)\n",
        "# Print results\n",
        "print('Query Point:', query_point)\n",
        "print('Nearest Neighbors:')\n",
        "for i, idx in enumerate(indices[0]):\n",
        "  print(f'Neighbor {i + 1}: {data[idx]}, Distance: {distances[0][i]}')\n"
      ]
    },
    {
      "cell_type": "markdown",
      "source": [
        "# เรียกใช้ BallTree สำเร็จรูป\n",
        "1.   นำเข้า sklearn.neighbors library\n",
        "          from sklearn.neighbors import BallTree\n",
        "\n",
        "2.   สร้างอัลกอริทึม BallTree\n",
        "          data = np.array([[2, 3], [5, 4], [9, 6], [4, 7], [8, 1], [7, 2]])\n",
        "          length = data.shape[0]\n",
        "\n",
        "          # Build Ball tree\n",
        "          ball_tree = BallTree(data)\n",
        "\n",
        "3.   ค้นหาข้อมูล query_point แล้วแสดงค่าข้อมูลใกล้เคียงที่สุดจำนวน k ค่า\n",
        "          \n",
        "          query_point = np.array([[9, 2]])\n",
        "          distances, indices = ball_tree.query(query_point, k=2)"
      ],
      "metadata": {
        "id": "Vce7jl7W-EBz"
      }
    },
    {
      "cell_type": "code",
      "source": [
        "from sklearn.neighbors import BallTree\n",
        "import numpy as np\n",
        "# Sample 2D dataset\n",
        "data = np.array([[2, 3], [5, 4], [9, 6], [4, 7], [8, 1], [7, 2]])\n",
        "# Constructing Ball Tree\n",
        "ball_tree = BallTree(data)\n",
        "# Query point\n",
        "query_point = np.array([[9, 2]])"
      ],
      "metadata": {
        "id": "3wPeE3oHHcqw"
      },
      "execution_count": 13,
      "outputs": []
    }
  ]
}